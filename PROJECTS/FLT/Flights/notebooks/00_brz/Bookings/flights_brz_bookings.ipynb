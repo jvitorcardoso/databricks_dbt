{
 "cells": [
  {
   "cell_type": "code",
   "execution_count": 0,
   "metadata": {
    "application/vnd.databricks.v1+cell": {
     "cellMetadata": {
      "byteLimit": 2048000,
      "rowLimit": 10000
     },
     "inputWidgets": {},
     "nuid": "56912e58-5c1f-48c4-922a-3f9116565196",
     "showTitle": false,
     "tableResultSettingsMap": {},
     "title": ""
    }
   },
   "outputs": [],
   "source": [
    "import sys\n",
    "sys.path.append(\"/Workspace/Users/joaocardoso.dataengineer@outlook.com/databricks_dbt/PROJECTS\")\n",
    "\n",
    "from utils.BaseIngestion import BaseIngestion"
   ]
  },
  {
   "cell_type": "code",
   "execution_count": 0,
   "metadata": {
    "application/vnd.databricks.v1+cell": {
     "cellMetadata": {
      "byteLimit": 2048000,
      "rowLimit": 10000
     },
     "inputWidgets": {},
     "nuid": "040591e5-84a1-4e59-8a2f-3519b7c192b0",
     "showTitle": false,
     "tableResultSettingsMap": {},
     "title": ""
    }
   },
   "outputs": [],
   "source": [
    "class BronzeIngestion(BaseIngestion):\n",
    "    def __init__(self):\n",
    "        super().__init__(layer=\"bronze\")\n",
    "        self.file_format = \"csv\"\n",
    "        self.schema_evolution = \"rescue\"\n",
    "\n",
    "    def ingest_data(self):\n",
    "        df = spark.readStream.format(\"cloudFiles\") \\\n",
    "            .option(\"cloudFiles.format\", self.file_format) \\\n",
    "            .option(\"cloudFiles.schemaLocation\", self.schema_location) \\\n",
    "            .option(\"cloudFiles.schemaEvolutionMode\", self.schema_evolution) \\\n",
    "            .load(self.base_path)\n",
    "        return df\n",
    "\n",
    "    def load_data(self, df):\n",
    "        df.writeStream \\\n",
    "            .format(\"delta\") \\\n",
    "            .outputMode(\"append\") \\\n",
    "            .trigger(once=True) \\\n",
    "            .option(\"checkpointLocation\", self.schema_location) \\\n",
    "            .option(\"path\", self.output_path) \\\n",
    "            .start()\n",
    "\n",
    "    def main(self):\n",
    "        df = self.ingest_data()\n",
    "        self.load_data(df)\n"
   ]
  },
  {
   "cell_type": "code",
   "execution_count": 0,
   "metadata": {
    "application/vnd.databricks.v1+cell": {
     "cellMetadata": {
      "byteLimit": 2048000,
      "rowLimit": 10000
     },
     "inputWidgets": {},
     "nuid": "db7351e4-89e5-4ec0-b88e-59fee2502870",
     "showTitle": false,
     "tableResultSettingsMap": {},
     "title": ""
    }
   },
   "outputs": [],
   "source": [
    "obj = BronzeIngestion()\n",
    "obj.main()"
   ]
  },
  {
   "cell_type": "code",
   "execution_count": 0,
   "metadata": {
    "application/vnd.databricks.v1+cell": {
     "cellMetadata": {
      "byteLimit": 2048000,
      "implicitDf": true,
      "rowLimit": 10000
     },
     "inputWidgets": {},
     "nuid": "40c7c0e9-d258-4408-9537-97b9a303e5a9",
     "showTitle": false,
     "tableResultSettingsMap": {
      "0": {
       "dataGridStateBlob": "{\"version\":1,\"tableState\":{\"columnPinning\":{\"left\":[\"#row_number#\"],\"right\":[]},\"columnSizing\":{\"engineInfo\":335},\"columnVisibility\":{}},\"settings\":{\"columns\":{}},\"syncTimestamp\":1752719279005}",
       "filterBlob": null,
       "queryPlanFiltersBlob": null,
       "tableResultIndex": 0
      }
     },
     "title": ""
    }
   },
   "outputs": [],
   "source": [
    "%sql DESCRIBE HISTORY delta.`/Volumes/one_lake_dev/bronze/landzone/Flights/fct/Bookings/data`"
   ]
  },
  {
   "cell_type": "code",
   "execution_count": 0,
   "metadata": {
    "application/vnd.databricks.v1+cell": {
     "cellMetadata": {
      "byteLimit": 2048000,
      "rowLimit": 10000
     },
     "inputWidgets": {},
     "nuid": "6d3d955a-ae06-4e5a-b580-2147d9d93d0c",
     "showTitle": false,
     "tableResultSettingsMap": {
      "0": {
       "dataGridStateBlob": "{\"version\":1,\"tableState\":{\"columnPinning\":{\"left\":[\"#row_number#\"],\"right\":[]},\"columnSizing\":{\"path\":515},\"columnVisibility\":{}},\"settings\":{\"columns\":{}},\"syncTimestamp\":1752633195576}",
       "filterBlob": null,
       "queryPlanFiltersBlob": null,
       "tableResultIndex": 0
      }
     },
     "title": ""
    }
   },
   "outputs": [],
   "source": [
    "display(dbutils.fs.ls(\"/Volumes/one_lake_dev/bronze/landzone/Flights/fct/Bookings/checkpoint/_schemas/0\"))"
   ]
  }
 ],
 "metadata": {
  "application/vnd.databricks.v1+notebook": {
   "computePreferences": null,
   "dashboards": [],
   "environmentMetadata": {
    "base_environment": "",
    "environment_version": "2"
   },
   "inputWidgetPreferences": null,
   "language": "python",
   "notebookMetadata": {
    "mostRecentlyExecutedCommandWithImplicitDF": {
     "commandId": 7798885381425442,
     "dataframes": [
      "_sqldf"
     ]
    },
    "pythonIndentUnit": 4
   },
   "notebookName": "flights_brz_bookings",
   "widgets": {}
  },
  "language_info": {
   "name": "python"
  }
 },
 "nbformat": 4,
 "nbformat_minor": 0
}
